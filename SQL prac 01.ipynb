{
 "cells": [
  {
   "cell_type": "markdown",
   "id": "df075acb",
   "metadata": {},
   "source": [
    "All SQL databases are relational databases"
   ]
  },
  {
   "cell_type": "markdown",
   "id": "c6ff362c",
   "metadata": {},
   "source": [
    "SQL for CRUD (Create, Read, Update, Delete) rows/records and tables/columns\n",
    "\n",
    "SQL command for Create is insert\n",
    "\n",
    "SQL command for Read is select\n",
    "\n",
    "SQL command for Update is update, alter\n",
    "\n",
    "SQL command for Delete is delete, drop"
   ]
  },
  {
   "cell_type": "code",
   "execution_count": 1,
   "id": "8dcb1280",
   "metadata": {},
   "outputs": [],
   "source": [
    "# how to sqlite (sql database) onto jupyter notebook"
   ]
  },
  {
   "cell_type": "code",
   "execution_count": 2,
   "id": "67f1d6c4",
   "metadata": {},
   "outputs": [
    {
     "name": "stdout",
     "output_type": "stream",
     "text": [
      "Requirement already satisfied: ipython-sql in c:\\users\\kate\\anaconda\\lib\\site-packages (0.4.1)\n",
      "Requirement already satisfied: ipython>=1.0 in c:\\users\\kate\\anaconda\\lib\\site-packages (from ipython-sql) (7.22.0)\n",
      "Requirement already satisfied: sqlparse in c:\\users\\kate\\anaconda\\lib\\site-packages (from ipython-sql) (0.4.2)\n",
      "Requirement already satisfied: ipython-genutils>=0.1.0 in c:\\users\\kate\\anaconda\\lib\\site-packages (from ipython-sql) (0.2.0)\n",
      "Requirement already satisfied: sqlalchemy>=0.6.7 in c:\\users\\kate\\anaconda\\lib\\site-packages (from ipython-sql) (1.4.7)\n",
      "Requirement already satisfied: prettytable<1 in c:\\users\\kate\\anaconda\\lib\\site-packages (from ipython-sql) (0.7.2)\n",
      "Requirement already satisfied: six in c:\\users\\kate\\anaconda\\lib\\site-packages (from ipython-sql) (1.15.0)\n",
      "Requirement already satisfied: colorama in c:\\users\\kate\\anaconda\\lib\\site-packages (from ipython>=1.0->ipython-sql) (0.4.4)\n",
      "Requirement already satisfied: traitlets>=4.2 in c:\\users\\kate\\anaconda\\lib\\site-packages (from ipython>=1.0->ipython-sql) (5.0.5)\n",
      "Requirement already satisfied: prompt-toolkit!=3.0.0,!=3.0.1,<3.1.0,>=2.0.0 in c:\\users\\kate\\anaconda\\lib\\site-packages (from ipython>=1.0->ipython-sql) (3.0.17)\n",
      "Requirement already satisfied: setuptools>=18.5 in c:\\users\\kate\\anaconda\\lib\\site-packages (from ipython>=1.0->ipython-sql) (52.0.0.post20210125)\n",
      "Requirement already satisfied: jedi>=0.16 in c:\\users\\kate\\anaconda\\lib\\site-packages (from ipython>=1.0->ipython-sql) (0.17.2)\n",
      "Requirement already satisfied: pygments in c:\\users\\kate\\anaconda\\lib\\site-packages (from ipython>=1.0->ipython-sql) (2.8.1)\n",
      "Requirement already satisfied: pickleshare in c:\\users\\kate\\anaconda\\lib\\site-packages (from ipython>=1.0->ipython-sql) (0.7.5)\n",
      "Requirement already satisfied: decorator in c:\\users\\kate\\anaconda\\lib\\site-packages (from ipython>=1.0->ipython-sql) (5.0.6)\n",
      "Requirement already satisfied: backcall in c:\\users\\kate\\anaconda\\lib\\site-packages (from ipython>=1.0->ipython-sql) (0.2.0)\n",
      "Requirement already satisfied: parso<0.8.0,>=0.7.0 in c:\\users\\kate\\anaconda\\lib\\site-packages (from jedi>=0.16->ipython>=1.0->ipython-sql) (0.7.0)\n",
      "Requirement already satisfied: wcwidth in c:\\users\\kate\\anaconda\\lib\\site-packages (from prompt-toolkit!=3.0.0,!=3.0.1,<3.1.0,>=2.0.0->ipython>=1.0->ipython-sql) (0.2.5)\n",
      "Requirement already satisfied: greenlet!=0.4.17 in c:\\users\\kate\\anaconda\\lib\\site-packages (from sqlalchemy>=0.6.7->ipython-sql) (1.0.0)\n"
     ]
    }
   ],
   "source": [
    "!pip install ipython-sql\n",
    "import sqlalchemy"
   ]
  },
  {
   "cell_type": "markdown",
   "id": "be359413",
   "metadata": {},
   "source": [
    "sqlalchemy.create_engine('sqlite:///foo.db')"
   ]
  },
  {
   "cell_type": "code",
   "execution_count": 3,
   "id": "3cd4ad0b",
   "metadata": {},
   "outputs": [],
   "source": [
    "%load_ext sql"
   ]
  },
  {
   "cell_type": "code",
   "execution_count": 4,
   "id": "cdf9716c",
   "metadata": {},
   "outputs": [],
   "source": [
    "# bringing sqlite database (downloaded first to my computer, saved into a folder), onto Jupyter Notebook\n",
    "\n",
    "# sqlite:/// and / folder location/ folder location... / folder name"
   ]
  },
  {
   "cell_type": "code",
   "execution_count": 5,
   "id": "130e649d",
   "metadata": {},
   "outputs": [],
   "source": [
    "%sql sqlite:////datascience/SQL/my_ipod.sqlite3"
   ]
  },
  {
   "cell_type": "code",
   "execution_count": 6,
   "id": "d8970b23",
   "metadata": {},
   "outputs": [],
   "source": [
    "# To find out which tables are there in this database, you can use the following command. \n",
    "# The standard command “.tables” from the SQLite console will not work."
   ]
  },
  {
   "cell_type": "code",
   "execution_count": 7,
   "id": "e5ff4a3e",
   "metadata": {},
   "outputs": [
    {
     "name": "stdout",
     "output_type": "stream",
     "text": [
      " * sqlite:////datascience/SQL/my_ipod.sqlite3\n",
      "Done.\n"
     ]
    },
    {
     "data": {
      "text/html": [
       "<table>\n",
       "    <tr>\n",
       "        <th>name</th>\n",
       "    </tr>\n",
       "    <tr>\n",
       "        <td>schema_migrations</td>\n",
       "    </tr>\n",
       "    <tr>\n",
       "        <td>ar_internal_metadata</td>\n",
       "    </tr>\n",
       "    <tr>\n",
       "        <td>genres</td>\n",
       "    </tr>\n",
       "    <tr>\n",
       "        <td>sqlite_sequence</td>\n",
       "    </tr>\n",
       "    <tr>\n",
       "        <td>artists</td>\n",
       "    </tr>\n",
       "    <tr>\n",
       "        <td>albums</td>\n",
       "    </tr>\n",
       "    <tr>\n",
       "        <td>songs</td>\n",
       "    </tr>\n",
       "    <tr>\n",
       "        <td>User</td>\n",
       "    </tr>\n",
       "    <tr>\n",
       "        <td>Favorite</td>\n",
       "    </tr>\n",
       "</table>"
      ],
      "text/plain": [
       "[('schema_migrations',),\n",
       " ('ar_internal_metadata',),\n",
       " ('genres',),\n",
       " ('sqlite_sequence',),\n",
       " ('artists',),\n",
       " ('albums',),\n",
       " ('songs',),\n",
       " ('User',),\n",
       " ('Favorite',)]"
      ]
     },
     "execution_count": 7,
     "metadata": {},
     "output_type": "execute_result"
    }
   ],
   "source": [
    "\n",
    "%%sql\n",
    "SELECT name FROM sqlite_master WHERE type='table'"
   ]
  },
  {
   "cell_type": "code",
   "execution_count": 8,
   "id": "5035358e",
   "metadata": {},
   "outputs": [],
   "source": [
    "# practice querying the table"
   ]
  },
  {
   "cell_type": "code",
   "execution_count": 9,
   "id": "cf0fc54b",
   "metadata": {},
   "outputs": [
    {
     "name": "stdout",
     "output_type": "stream",
     "text": [
      " * sqlite:////datascience/SQL/my_ipod.sqlite3\n",
      "Done.\n"
     ]
    },
    {
     "data": {
      "text/html": [
       "<table>\n",
       "    <tr>\n",
       "        <th>id</th>\n",
       "        <th>name</th>\n",
       "        <th>bio</th>\n",
       "        <th>grammy_amount</th>\n",
       "        <th>year_started</th>\n",
       "        <th>created_at</th>\n",
       "        <th>updated_at</th>\n",
       "    </tr>\n",
       "    <tr>\n",
       "        <td>1</td>\n",
       "        <td>Alanis Morissette</td>\n",
       "        <td>Alanis Nadine Morissette is a Canadian-American alternative rock singer, songwriter, musician, multi-instrumentalist, record producer, and actress. </td>\n",
       "        <td>8</td>\n",
       "        <td>1983</td>\n",
       "        <td>2018-03-31 14:25:36.657442</td>\n",
       "        <td>2018-03-31 14:25:36.657442</td>\n",
       "    </tr>\n",
       "    <tr>\n",
       "        <td>2</td>\n",
       "        <td>Avril Lavigne</td>\n",
       "        <td>Avril Lavigne is a Canadian singer-songwriter who signed with Artista Records by the age of 16.</td>\n",
       "        <td>0</td>\n",
       "        <td>1999</td>\n",
       "        <td>2018-03-31 14:25:36.662908</td>\n",
       "        <td>2018-03-31 14:25:36.662908</td>\n",
       "    </tr>\n",
       "    <tr>\n",
       "        <td>3</td>\n",
       "        <td>Ariana Grande</td>\n",
       "        <td>Ariana Grande is an American singer and actress. She started her career in 2008 with a musical and played Cat Valentine in Nickelodeon tv series, Victorious.</td>\n",
       "        <td>0</td>\n",
       "        <td>2008</td>\n",
       "        <td>2018-03-31 14:25:36.668385</td>\n",
       "        <td>2018-03-31 14:25:36.668385</td>\n",
       "    </tr>\n",
       "    <tr>\n",
       "        <td>4</td>\n",
       "        <td>AC/DC</td>\n",
       "        <td>AC/DC is an Australian rock band formed by Malcum and Angus Young. </td>\n",
       "        <td>2</td>\n",
       "        <td>1973</td>\n",
       "        <td>2018-03-31 14:25:36.675144</td>\n",
       "        <td>2018-03-31 14:25:36.675144</td>\n",
       "    </tr>\n",
       "    <tr>\n",
       "        <td>5</td>\n",
       "        <td>Alabama Shakes</td>\n",
       "        <td>Alabama Shakes is a Blues rock band from Athens, Alabama.</td>\n",
       "        <td>4</td>\n",
       "        <td>2009</td>\n",
       "        <td>2018-03-31 14:25:36.680052</td>\n",
       "        <td>2018-03-31 14:25:36.680052</td>\n",
       "    </tr>\n",
       "    <tr>\n",
       "        <td>6</td>\n",
       "        <td>The Avett Brothers</td>\n",
       "        <td>Avett Brothers are an American folk rock band from Concord, North Carolina.</td>\n",
       "        <td>0</td>\n",
       "        <td>2000</td>\n",
       "        <td>2018-03-31 14:25:36.721773</td>\n",
       "        <td>2018-03-31 14:25:36.721773</td>\n",
       "    </tr>\n",
       "    <tr>\n",
       "        <td>7</td>\n",
       "        <td>Black Sabbath</td>\n",
       "        <td>Black Sabbath is an English Rockband from Birmingham. Ozzy Osbourne is the lead singer.</td>\n",
       "        <td>2</td>\n",
       "        <td>1968</td>\n",
       "        <td>2018-03-31 14:25:36.730409</td>\n",
       "        <td>2018-03-31 14:25:36.730409</td>\n",
       "    </tr>\n",
       "    <tr>\n",
       "        <td>8</td>\n",
       "        <td>The Beatles</td>\n",
       "        <td>The Beatles werean English Rock Band formed in Liverpool. </td>\n",
       "        <td>25</td>\n",
       "        <td>1960</td>\n",
       "        <td>2018-03-31 14:25:36.744048</td>\n",
       "        <td>2018-03-31 14:25:36.744048</td>\n",
       "    </tr>\n",
       "    <tr>\n",
       "        <td>9</td>\n",
       "        <td>The Black Eyed Peas</td>\n",
       "        <td>The Black Eyed Peas are an American </td>\n",
       "        <td>6</td>\n",
       "        <td>1995</td>\n",
       "        <td>2018-03-31 14:25:36.755708</td>\n",
       "        <td>2018-03-31 14:25:36.755708</td>\n",
       "    </tr>\n",
       "    <tr>\n",
       "        <td>10</td>\n",
       "        <td>Beyoncé</td>\n",
       "        <td>Beyoncé Giselle Knowles-Carter is an American singer, songwriter and actress. Born and raised in Houston, Texas, Beyoncé performed in various singing and dancing competitions as a child.</td>\n",
       "        <td>20</td>\n",
       "        <td>1997</td>\n",
       "        <td>2018-03-31 14:25:36.763010</td>\n",
       "        <td>2018-03-31 14:25:36.763010</td>\n",
       "    </tr>\n",
       "</table>"
      ],
      "text/plain": [
       "[(1, 'Alanis Morissette', 'Alanis Nadine Morissette is a Canadian-American alternative rock singer, songwriter, musician, multi-instrumentalist, record producer, and actress. ', 8, 1983, '2018-03-31 14:25:36.657442', '2018-03-31 14:25:36.657442'),\n",
       " (2, 'Avril Lavigne', 'Avril Lavigne is a Canadian singer-songwriter who signed with Artista Records by the age of 16.', 0, 1999, '2018-03-31 14:25:36.662908', '2018-03-31 14:25:36.662908'),\n",
       " (3, 'Ariana Grande', 'Ariana Grande is an American singer and actress. She started her career in 2008 with a musical and played Cat Valentine in Nickelodeon tv series, Victorious.', 0, 2008, '2018-03-31 14:25:36.668385', '2018-03-31 14:25:36.668385'),\n",
       " (4, 'AC/DC', 'AC/DC is an Australian rock band formed by Malcum and Angus Young. ', 2, 1973, '2018-03-31 14:25:36.675144', '2018-03-31 14:25:36.675144'),\n",
       " (5, 'Alabama Shakes', 'Alabama Shakes is a Blues rock band from Athens, Alabama.', 4, 2009, '2018-03-31 14:25:36.680052', '2018-03-31 14:25:36.680052'),\n",
       " (6, 'The Avett Brothers', 'Avett Brothers are an American folk rock band from Concord, North Carolina.', 0, 2000, '2018-03-31 14:25:36.721773', '2018-03-31 14:25:36.721773'),\n",
       " (7, 'Black Sabbath', 'Black Sabbath is an English Rockband from Birmingham. Ozzy Osbourne is the lead singer.', 2, 1968, '2018-03-31 14:25:36.730409', '2018-03-31 14:25:36.730409'),\n",
       " (8, 'The Beatles', 'The Beatles werean English Rock Band formed in Liverpool. ', 25, 1960, '2018-03-31 14:25:36.744048', '2018-03-31 14:25:36.744048'),\n",
       " (9, 'The Black Eyed Peas', 'The Black Eyed Peas are an American ', 6, 1995, '2018-03-31 14:25:36.755708', '2018-03-31 14:25:36.755708'),\n",
       " (10, 'Beyoncé', 'Beyoncé Giselle Knowles-Carter is an American singer, songwriter and actress. Born and raised in Houston, Texas, Beyoncé performed in various singing and dancing competitions as a child.', 20, 1997, '2018-03-31 14:25:36.763010', '2018-03-31 14:25:36.763010')]"
      ]
     },
     "execution_count": 9,
     "metadata": {},
     "output_type": "execute_result"
    }
   ],
   "source": [
    "%%sql\n",
    "SELECT * FROM artists limit 10;"
   ]
  },
  {
   "cell_type": "markdown",
   "id": "9c1dbf06",
   "metadata": {},
   "source": []
  },
  {
   "cell_type": "code",
   "execution_count": 10,
   "id": "a4af31d9",
   "metadata": {},
   "outputs": [
    {
     "name": "stdout",
     "output_type": "stream",
     "text": [
      " * sqlite:////datascience/SQL/my_ipod.sqlite3\n",
      "Done.\n"
     ]
    },
    {
     "data": {
      "text/html": [
       "<table>\n",
       "    <tr>\n",
       "        <th>id</th>\n",
       "        <th>name</th>\n",
       "        <th>created_at</th>\n",
       "        <th>updated_at</th>\n",
       "    </tr>\n",
       "    <tr>\n",
       "        <td>1</td>\n",
       "        <td>Alternative</td>\n",
       "        <td>2018-03-31 14:25:36.582526</td>\n",
       "        <td>2018-03-31 14:25:36.582526</td>\n",
       "    </tr>\n",
       "    <tr>\n",
       "        <td>2</td>\n",
       "        <td>Blues</td>\n",
       "        <td>2018-03-31 14:25:36.587929</td>\n",
       "        <td>2018-03-31 14:25:36.587929</td>\n",
       "    </tr>\n",
       "    <tr>\n",
       "        <td>3</td>\n",
       "        <td>Reggae</td>\n",
       "        <td>2018-03-31 14:25:36.590178</td>\n",
       "        <td>2018-03-31 14:25:36.590178</td>\n",
       "    </tr>\n",
       "    <tr>\n",
       "        <td>4</td>\n",
       "        <td>Rap</td>\n",
       "        <td>2018-03-31 14:25:36.592799</td>\n",
       "        <td>2018-03-31 14:25:36.592799</td>\n",
       "    </tr>\n",
       "    <tr>\n",
       "        <td>5</td>\n",
       "        <td>Country</td>\n",
       "        <td>2018-03-31 14:25:36.595362</td>\n",
       "        <td>2018-03-31 14:25:36.595362</td>\n",
       "    </tr>\n",
       "</table>"
      ],
      "text/plain": [
       "[(1, 'Alternative', '2018-03-31 14:25:36.582526', '2018-03-31 14:25:36.582526'),\n",
       " (2, 'Blues', '2018-03-31 14:25:36.587929', '2018-03-31 14:25:36.587929'),\n",
       " (3, 'Reggae', '2018-03-31 14:25:36.590178', '2018-03-31 14:25:36.590178'),\n",
       " (4, 'Rap', '2018-03-31 14:25:36.592799', '2018-03-31 14:25:36.592799'),\n",
       " (5, 'Country', '2018-03-31 14:25:36.595362', '2018-03-31 14:25:36.595362')]"
      ]
     },
     "execution_count": 10,
     "metadata": {},
     "output_type": "execute_result"
    }
   ],
   "source": [
    "%%sql\n",
    "SELECT*FROM genres limit 5;"
   ]
  },
  {
   "cell_type": "code",
   "execution_count": null,
   "id": "313dd1b4",
   "metadata": {},
   "outputs": [],
   "source": []
  }
 ],
 "metadata": {
  "kernelspec": {
   "display_name": "Python 3",
   "language": "python",
   "name": "python3"
  },
  "language_info": {
   "codemirror_mode": {
    "name": "ipython",
    "version": 3
   },
   "file_extension": ".py",
   "mimetype": "text/x-python",
   "name": "python",
   "nbconvert_exporter": "python",
   "pygments_lexer": "ipython3",
   "version": "3.8.8"
  }
 },
 "nbformat": 4,
 "nbformat_minor": 5
}
