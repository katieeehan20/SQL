{
 "cells": [
  {
   "cell_type": "markdown",
   "id": "1d8dcb07",
   "metadata": {},
   "source": [
    "What is SQL?\n",
    "\n",
    "SQL (Structured Query Language) is a language that you use to read and retrieve data from relational database"
   ]
  },
  {
   "cell_type": "code",
   "execution_count": null,
   "id": "06cac85b",
   "metadata": {},
   "outputs": [],
   "source": []
  },
  {
   "cell_type": "markdown",
   "id": "5f3d9fab",
   "metadata": {},
   "source": [
    "What is DBMS?\n",
    "\n",
    "DBMS (Database Management System) has 4 types, and the main type is relational database management system.\n",
    "\n",
    "A DBMS is a group of programs that allow clients to obtain and modify data.\n",
    "\n",
    "DBMS also regulates the accessibility of data, as some data is confidential.\n",
    "\n",
    "A DBMS is comprised of 4 parts - Table, Field, Row, Column\n",
    "\n",
    " -- Any set of data is stored into DBMS in the form of a Table (rows and columns)\n",
    " \n",
    " -- After the data is stored in a table, the Table is subdivided into Field (where specific data is kept)"
   ]
  },
  {
   "cell_type": "code",
   "execution_count": null,
   "id": "48649eb4",
   "metadata": {},
   "outputs": [],
   "source": [
    "Relational Database Management System (Relational DBMS)\n",
    "\n",
    "Relational DBMS is programmed by using the language SQL. SQL is the main language for Relational DBMS\n",
    "\n",
    "Some types of Relational DBMS:\n",
    "    -- MY SQL\n",
    "    -- MY SQL Server\n",
    "    -- Oracle\n",
    "    -- MS Access - Database Management Software"
   ]
  },
  {
   "cell_type": "code",
   "execution_count": null,
   "id": "5d80b1b0",
   "metadata": {},
   "outputs": [],
   "source": []
  },
  {
   "cell_type": "code",
   "execution_count": null,
   "id": "10512a88",
   "metadata": {},
   "outputs": [],
   "source": [
    "SQL Table Constraints (These are the rules on the table columns)\n",
    "\n",
    "Constraints can be in the form of Table or Columns\n",
    "\n",
    "1. Primary Key\n",
    "2. Foreign Key\n",
    "3. Unique/ Default/ Check Constraint\n",
    "4. Not Null"
   ]
  },
  {
   "cell_type": "code",
   "execution_count": null,
   "id": "163fcf27",
   "metadata": {},
   "outputs": [],
   "source": []
  },
  {
   "cell_type": "code",
   "execution_count": null,
   "id": "abc1b99a",
   "metadata": {},
   "outputs": [],
   "source": [
    "What is database?\n",
    "\n",
    "A database is a collection of a set of data. \n",
    "\n",
    "Data can be stored, retrieved, and controlled from database.\n",
    "\n",
    "Database Normalization - To ensure that data is stored effectively in a database. \n",
    "                         To eradicate unnecessary data, and to ensure that the data is logically structured.\n"
   ]
  },
  {
   "cell_type": "code",
   "execution_count": null,
   "id": "0131c15a",
   "metadata": {},
   "outputs": [],
   "source": [
    "Data Integrity - To maintain data consistency in a database\n",
    "\n",
    "There are 4 types of data integrity\n",
    "\n",
    "1. Domain Integrity\n",
    "2. Entity Integrity - No duplicate rows \n",
    "3. User-Defined Integrity\n",
    "4. Referential Integrity - Rows cannot be erased"
   ]
  },
  {
   "cell_type": "code",
   "execution_count": null,
   "id": "a281f0cf",
   "metadata": {},
   "outputs": [],
   "source": []
  },
  {
   "cell_type": "code",
   "execution_count": null,
   "id": "dce49997",
   "metadata": {},
   "outputs": [],
   "source": [
    "Why is SQL important?\n",
    "\n",
    "1. No coding. - Manage database without having to code.\n",
    "2. High performance. - SQL queries are used to obtain large data loads efficiently\n",
    "3. Data description, definition, manipulation is enabled\n",
    "4. SQL can be embedded in other languages using modules or pre-compilers\n",
    "5. Multiple functions make SQL effective. Users can develop functions and views in a database\n",
    "6. Permission settings for views, tables, procedures.\n",
    "7. Portable in laptop, PC, server\n",
    "8. Enables multiple and diverse data views on database structure"
   ]
  },
  {
   "cell_type": "code",
   "execution_count": null,
   "id": "e8e5e036",
   "metadata": {},
   "outputs": [],
   "source": []
  },
  {
   "cell_type": "code",
   "execution_count": null,
   "id": "b515bb31",
   "metadata": {},
   "outputs": [],
   "source": [
    "What are the components that enable SQL process?\n",
    "\n",
    "- Query Dispatcher\n",
    "- Optimization Engine\n",
    "- Classic Query Engine\n",
    "- SQL Query Engine\n",
    "- SQL Syntax & Stament - SQL Syntax means unique set of guidelines\n",
    "                        \n",
    "                       - SQL Statement starts with SQL command, ends with a ;"
   ]
  },
  {
   "cell_type": "code",
   "execution_count": null,
   "id": "30a7c3d2",
   "metadata": {},
   "outputs": [],
   "source": [
    "Process of executiing a SQL command?\n",
    "\n",
    "SQL Query -> Query Language Processor -> DBMS Engine -> Physical Database"
   ]
  },
  {
   "cell_type": "code",
   "execution_count": null,
   "id": "88e844cd",
   "metadata": {},
   "outputs": [],
   "source": [
    "SQL commands\n",
    "\n",
    "- Create\n",
    "- Alter\n",
    "- Drop\n",
    "- Select\n",
    "- Insert\n",
    "- Update\n",
    "- Delete\n",
    "- Grant\n",
    "- Revoke"
   ]
  },
  {
   "cell_type": "code",
   "execution_count": null,
   "id": "808a95f9",
   "metadata": {},
   "outputs": [],
   "source": [
    "SQL Operators\n",
    "\n",
    "- Arithmetic Operators (+ , - , * , / , %)\n",
    "\n",
    "- Comparison Operators\n",
    "\n",
    "- Logical operators"
   ]
  }
 ],
 "metadata": {
  "kernelspec": {
   "display_name": "Python 3",
   "language": "python",
   "name": "python3"
  },
  "language_info": {
   "codemirror_mode": {
    "name": "ipython",
    "version": 3
   },
   "file_extension": ".py",
   "mimetype": "text/x-python",
   "name": "python",
   "nbconvert_exporter": "python",
   "pygments_lexer": "ipython3",
   "version": "3.8.8"
  }
 },
 "nbformat": 4,
 "nbformat_minor": 5
}
